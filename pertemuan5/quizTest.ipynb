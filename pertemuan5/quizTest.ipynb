{
 "cells": [
  {
   "cell_type": "code",
   "execution_count": 15,
   "metadata": {},
   "outputs": [
    {
     "name": "stdout",
     "output_type": "stream",
     "text": [
      "Total jarak yang ditempuh ibu Rinda setelah 9 putaran adalah 2.016 km.\n"
     ]
    }
   ],
   "source": [
    "# Bu Rinda merasa perlu olahraga dan berencana untuk berlari sore ini. Beliau akan berlari\n",
    "# di lapngan sekitar rumahnya. Lapngan yang akan digunakan beliau memiliki ukuran\n",
    "# panjang 80 meter dengan lebar 3200 centimeter. Beliau berencana akan berlari\n",
    "# sebanyak 5x putaran dan jalan santai sebanyak masing-masing 2x putaran saat\n",
    "# pemanasan dan saat pendinginan. Buatlah sebuah program untuk menghitung total jarak\n",
    "# yang akan ditempuh oleh Bu Rinda dalam satuan kilometer. Gunakan rumus menghitung\n",
    "# keliling persegi panjang\n",
    "\n",
    "panjangMeterKeKilo = 80 / 1000\n",
    "lebarCentiKeKilo = 3200 / 100000\n",
    "\n",
    "totalPutaran = 5 + 2 + 2\n",
    "totalJarak = (2 * (panjangMeterKeKilo + lebarCentiKeKilo)) * totalPutaran\n",
    "\n",
    "print(f\"Total jarak yang ditempuh ibu Rinda setelah {totalPutaran} putaran adalah {totalJarak} km.\")"
   ]
  },
  {
   "cell_type": "code",
   "execution_count": 16,
   "metadata": {},
   "outputs": [
    {
     "name": "stdout",
     "output_type": "stream",
     "text": [
      "Mobil tersebut menyelesaikan 1 putaran dalam waktu 648 detik\n"
     ]
    }
   ],
   "source": [
    "# Pak Rendi meneliti seberapa lama sebuah mobil balap dapat menyelesaikan 1 putaran.\n",
    "# Mobil balap itu, ternyata mampu melaju cepat sehingga dapat menyelesaikan 1 putaran\n",
    "# hanya dalam waktu 10 menit 48 detik. Buatlah sebuah program untuk membantu Pak\n",
    "# Rendi agar waktu yang didapat tersebut dapat dikonversi satuannya menjadi detik saat\n",
    "# ditampilkan.\n",
    "\n",
    "menitKeDetik = 10 * 60\n",
    "detik = 48\n",
    "\n",
    "print(f'Mobil tersebut menyelesaikan 1 putaran dalam waktu {menitKeDetik + detik} detik')"
   ]
  },
  {
   "cell_type": "code",
   "execution_count": 11,
   "metadata": {},
   "outputs": [
    {
     "name": "stdout",
     "output_type": "stream",
     "text": [
      "\n",
      "Barang jualan bulan Juli: ['T-Shirt', 'Blouse', 'Kemeja', 'Celana Panjang', 'Rok', 'Baju Renang', 'Tas', 'Topi', 'Sepatu', 'Sendal']\n",
      "Jumlah barang jualan bulan Juli: 10\n",
      "\n",
      "\n",
      "Barang jualan bulan ini: ['T-Shirt', 'Blouse', 'Kemeja', 'Celana Panjang', 'Rok', 'Gamis', 'Tas', 'Topi', 'Sepatu', 'Sendal', 'Ikat Rambut', 'Kerudung']\n",
      "Jumlah barang jualan bulan ini: 12\n",
      "\n"
     ]
    }
   ],
   "source": [
    "# Nabila merupakan seorang pemilik online shop. Ia membutuhkan program yang dapat\n",
    "# menyimpan seluruh barang jualan di online shop-nya. Pada bulan Juli lalu, barangbarang yang dijual oleh online shop Nabila antara lain:\n",
    "# T-Shirt, Blouse, Kemeja, Celana Panjang, Rok, Baju Renang, Tas, Topi, Sepatu,\n",
    "# dan Sendal\n",
    "# Mulai bulan ini, online shop tersebut berhenti berjualan Baju Renang dan diganti menjadi\n",
    "# Gamis. Selain itu, karena banyaknya permintaan pelanggan, kini online shop-nya pun\n",
    "# memproduksi Ikat Rambut dan Kerudung. Program yang Nabila butuhkan harus dapat\n",
    "# menampilkan daftar barang jualan pada bulan Juli berserta jumlah jenis barangnya dan\n",
    "# daftar barang jualan bulan ini berserta jumlah jenis barangnya. Buatlah program yang\n",
    "# dapat memenuhi kebutuhan Nabila.\n",
    "\n",
    "barangJualanBulanJuli = ['T-Shirt', 'Blouse', 'Kemeja', 'Celana Panjang', 'Rok', 'Baju Renang', 'Tas', 'Topi', 'Sepatu', 'Sendal']\n",
    "\n",
    "print(f'''\n",
    "Barang jualan bulan Juli: {barangJualanBulanJuli}\n",
    "Jumlah barang jualan bulan Juli: {len(barangJualanBulanJuli)}\n",
    "''')\n",
    "\n",
    "barangJualanBulanIni = barangJualanBulanJuli\n",
    "barangJualanBulanIni[5] = 'Gamis'\n",
    "barangJualanBulanIni.append('Ikat Rambut')\n",
    "barangJualanBulanIni.append('Kerudung')\n",
    "\n",
    "print(f'''\n",
    "Barang jualan bulan ini: {barangJualanBulanIni}\n",
    "Jumlah barang jualan bulan ini: {len(barangJualanBulanIni)}\n",
    "''')"
   ]
  },
  {
   "cell_type": "code",
   "execution_count": 7,
   "metadata": {},
   "outputs": [
    {
     "name": "stdout",
     "output_type": "stream",
     "text": [
      "Total biaya yang diperlukan untuk membangun bangunan dengan luas permukaan dinding 144.0 m^2 adalah Rp74880000.0\n"
     ]
    }
   ],
   "source": [
    "# Pak Abi berencana untuk membangun rumah baru untuk orangtuanya. Beliau sudah\n",
    "# membuat desain rumah yang berbentuk sebagai berikut:\n",
    "# Buatlah sebuah program untuk dapat menghitung total biaya yang Pak Abi harus\n",
    "# keluarkan untuk membuat bangunan tersebut dimana biaya untuk pembuatan dindingnya\n",
    "# yaitu Rp. 520.000/m2\n",
    "# . Untuk menghitung luas permukaan dinding gunakan rumus 2 ×\n",
    "# (Panjang × Tinggi) + 2 × (Lebar × Tinggi)\n",
    "\n",
    "panjangMeter = 8\n",
    "lebarCentiKeMeter = 1000 / 100 \n",
    "tinggiCentiKeMeter = 400 / 100 \n",
    "\n",
    "luasPermukaanDinding = 2 * (panjangMeter * tinggiCentiKeMeter) + 2 * (lebarCentiKeMeter * tinggiCentiKeMeter)\n",
    "totalBiaya = luasPermukaanDinding * 520000\n",
    "\n",
    "print(f\"Total biaya yang diperlukan untuk membangun bangunan dengan luas permukaan dinding {luasPermukaanDinding} m^2 adalah Rp{totalBiaya}\")"
   ]
  },
  {
   "cell_type": "code",
   "execution_count": 10,
   "metadata": {},
   "outputs": [
    {
     "name": "stdout",
     "output_type": "stream",
     "text": [
      "\n",
      "Mobil lama Pak Oki adalah:\n",
      "Merk: Honda\n",
      "Tipe: HRV \n",
      "Warna: Hitam\n",
      "Tahun: 2018\n",
      "\n",
      "Masukkan informasi detail mobil baru\n",
      "\n",
      "-------------***-------------\n",
      "Mobil baru Pak Oki adalah:\n",
      "Merk: Honda\n",
      "Tipe: Civic Turbo \n",
      "Warna: Merah\n",
      "Tahun: 2023\n",
      "-------------***-------------\n",
      "\n"
     ]
    }
   ],
   "source": [
    "# Pak Oki memiliki sebuah mobil dengan spesifikasi seperti berikut:\n",
    "# • Merk: Honda\n",
    "# • Tipe: HRV\n",
    "# • Tahun: 2018\n",
    "# • Warna: Hitam\n",
    "# • No. Polisi: D 1234 ABC\n",
    "# • Bensin: Pertalite\n",
    "# • Tranmisi: Manual\n",
    "# Karena usahanya semakin sukses, Pak Oki mengganti mobilnya dengan mobil keluaran\n",
    "# terbaru, yaitu Honda Civic Turbo tahun 2023 bewarna Merah. Mobil baru Pak Oki\n",
    "# menggunakan bensin Pertamax dan transmisinya Automatic. Plat nomor mobil baru Pak\n",
    "# Oki adalah D 0 KI. Buatlah program yang dapat menyimpan detail informasi dari mobil\n",
    "# lama Pak Oki sekaligus dapat mengupdate informasi mobil baru yang dibeli oleh Pak Oki\n",
    "# (berdasarkan inputan). Output program yang diinginkan oleh Pak Oki adalah sebagai\n",
    "# berikut:\n",
    "\n",
    "border = '-------------***-------------'\n",
    "\n",
    "mobilPakOki = {\n",
    "    \"merk\": \"Honda\",\n",
    "    \"tipe\": \"HRV\",\n",
    "    \"tahun\": 2018,\n",
    "    \"warna\": \"Hitam\",\n",
    "    \"noPolisi\": \"D 1234 ABC\",\n",
    "    \"bensin\": \"Pertalite\",\n",
    "    \"transmisi\": \"Manual\"\n",
    "}\n",
    "\n",
    "print(f'''\n",
    "Mobil lama Pak Oki adalah:\n",
    "Merk: {mobilPakOki.get('merk')}\n",
    "Tipe: {mobilPakOki.get('tipe')} \n",
    "Warna: {mobilPakOki.get('warna')}\n",
    "Tahun: {mobilPakOki.get('tahun')}\n",
    "''')\n",
    "\n",
    "print('Masukkan informasi detail mobil baru')\n",
    "mobilPakOki['merk'] = input('Merk: ')\n",
    "mobilPakOki['tipe'] = input('Tipe mobil: ')\n",
    "mobilPakOki['tahun'] = int(input('Tahun keluaran: '))\n",
    "mobilPakOki['warna'] = input('Warna: ')\n",
    "mobilPakOki['noPolisi'] = input('No. Polisi: ')\n",
    "mobilPakOki['bensin'] = input('Bensin: ')\n",
    "mobilPakOki['transmisi'] = input('Transmisi: ')\n",
    "\n",
    "print(f'''\n",
    "{border}\n",
    "Mobil baru Pak Oki adalah:\n",
    "Merk: {mobilPakOki.get('merk')}\n",
    "Tipe: {mobilPakOki.get('tipe')} \n",
    "Warna: {mobilPakOki.get('warna')}\n",
    "Tahun: {mobilPakOki.get('tahun')}\n",
    "{border}\n",
    "''')\n"
   ]
  }
 ],
 "metadata": {
  "kernelspec": {
   "display_name": "Python 3",
   "language": "python",
   "name": "python3"
  },
  "language_info": {
   "codemirror_mode": {
    "name": "ipython",
    "version": 3
   },
   "file_extension": ".py",
   "mimetype": "text/x-python",
   "name": "python",
   "nbconvert_exporter": "python",
   "pygments_lexer": "ipython3",
   "version": "3.11.5"
  }
 },
 "nbformat": 4,
 "nbformat_minor": 2
}
