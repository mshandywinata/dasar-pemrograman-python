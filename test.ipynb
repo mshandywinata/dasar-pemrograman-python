{
 "cells": [
  {
   "cell_type": "code",
   "execution_count": 11,
   "metadata": {},
   "outputs": [
    {
     "name": "stdout",
     "output_type": "stream",
     "text": [
      "(-1, -4)\n"
     ]
    }
   ],
   "source": [
    "def find_roots(a, b, c):\n",
    "    return ((-1 * b + (b ** 2 - 4 * a * c) ** (1/2)) / (2 * a), (-1 * b - (b ** 2 - 4 * a * c) ** (1/2)) / (2 * a))\n",
    "\n",
    "print(find_roots(2, 10, 8));"
   ]
  }
 ],
 "metadata": {
  "kernelspec": {
   "display_name": "Python 3",
   "language": "python",
   "name": "python3"
  },
  "language_info": {
   "codemirror_mode": {
    "name": "ipython",
    "version": 3
   },
   "file_extension": ".py",
   "mimetype": "text/x-python",
   "name": "python",
   "nbconvert_exporter": "python",
   "pygments_lexer": "ipython3",
   "version": "3.11.5"
  }
 },
 "nbformat": 4,
 "nbformat_minor": 2
}
