{
 "cells": [
  {
   "cell_type": "code",
   "execution_count": null,
   "metadata": {},
   "outputs": [],
   "source": [
    "buah = [\"apel\", \"belimbing\", \"ceri\", \"durian\"]\n",
    "\n",
    "for i in buah:\n",
    "    print(f\"buah: {i}\")"
   ]
  },
  {
   "cell_type": "code",
   "execution_count": null,
   "metadata": {},
   "outputs": [],
   "source": [
    "buah = [\"apel\", \"belimbing\", \"ceri\", \"durian\"]\n",
    "\n",
    "for i in range(len(buah)):\n",
    "    print(f\"buah: {buah[i]}\")"
   ]
  },
  {
   "cell_type": "code",
   "execution_count": null,
   "metadata": {},
   "outputs": [],
   "source": [
    "angka = 0\n",
    "\n",
    "while angka < 8:\n",
    "    print(f\"Angka sekarang: {angka}\")\n",
    "    angka += 1"
   ]
  },
  {
   "cell_type": "code",
   "execution_count": null,
   "metadata": {},
   "outputs": [],
   "source": [
    "angka = [1, 2, 3, 4, 5]\n",
    "\n",
    "for i in angka:\n",
    "    print(i)\n",
    "    if i == 3:\n",
    "        break"
   ]
  },
  {
   "cell_type": "code",
   "execution_count": null,
   "metadata": {},
   "outputs": [],
   "source": [
    "angka = [1, 2, 3, 4, 5]\n",
    "\n",
    "for i in angka:\n",
    "    if i == 3:\n",
    "        continue\n",
    "    print(i)"
   ]
  },
  {
   "cell_type": "code",
   "execution_count": null,
   "metadata": {},
   "outputs": [],
   "source": [
    "for i in range(0, 101, 5):\n",
    "    print(i)\n",
    "    print(\"RPL\")\n",
    "print(\"Hello, world!\")"
   ]
  },
  {
   "cell_type": "code",
   "execution_count": null,
   "metadata": {},
   "outputs": [],
   "source": [
    "buah = [\"apel\", \"belimbing\", \"ceri\"]\n",
    "angka = [1, 2]\n",
    "\n",
    "for i in buah:\n",
    "    for j in angka:\n",
    "        print(f\"{i}: {j}\")"
   ]
  },
  {
   "cell_type": "code",
   "execution_count": null,
   "metadata": {},
   "outputs": [],
   "source": [
    "string = \"python\"\n",
    "\n",
    "for char in string:\n",
    "    if char == \"y\":\n",
    "        continue\n",
    "    print(f\"char: {char}\")"
   ]
  },
  {
   "cell_type": "code",
   "execution_count": null,
   "metadata": {},
   "outputs": [],
   "source": [
    "# STUDI KASUS 1\n",
    "\n",
    "angka = int(input(\"Masukkan bil. ganjil dan > 50: \"))\n",
    "\n",
    "while True:\n",
    "    if angka % 2 != 0 and angka > 50:\n",
    "        print(\"benar!\")\n",
    "        break\n",
    "    else:\n",
    "        angka = int(input(\"Salah, inputkan lagi: \"))"
   ]
  },
  {
   "cell_type": "code",
   "execution_count": 47,
   "metadata": {},
   "outputs": [
    {
     "name": "stdout",
     "output_type": "stream",
     "text": [
      "benar!\n"
     ]
    }
   ],
   "source": [
    "# STUDI KASUS 1 TANPA PERCABANGAN\n",
    "\n",
    "angka = int(input(\"Masukkan bil. ganjil dan > 50: \"))\n",
    "\n",
    "# ~(A dan B) == ~A atau ~B\n",
    "while angka % 2 == 0 or angka <= 50:\n",
    "    angka = int(input(\"Salah, inputkan lagi: \"))\n",
    "\n",
    "print(\"benar!\")"
   ]
  },
  {
   "cell_type": "code",
   "execution_count": 49,
   "metadata": {},
   "outputs": [
    {
     "name": "stdout",
     "output_type": "stream",
     "text": [
      "['APEL', 'ANGGUR', 'MANGGA']\n"
     ]
    }
   ],
   "source": [
    "list = [\"apel\", \"anggur\", \"mangga\"]\n",
    "listBaru = []\n",
    "\n",
    "for i in list:\n",
    "    listBaru.append(i.upper())\n",
    "    \n",
    "print(listBaru)"
   ]
  }
 ],
 "metadata": {
  "kernelspec": {
   "display_name": "Python 3",
   "language": "python",
   "name": "python3"
  },
  "language_info": {
   "codemirror_mode": {
    "name": "ipython",
    "version": 3
   },
   "file_extension": ".py",
   "mimetype": "text/x-python",
   "name": "python",
   "nbconvert_exporter": "python",
   "pygments_lexer": "ipython3",
   "version": "3.11.5"
  }
 },
 "nbformat": 4,
 "nbformat_minor": 2
}
