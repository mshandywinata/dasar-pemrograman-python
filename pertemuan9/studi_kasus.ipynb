{
 "cells": [
  {
   "cell_type": "code",
   "execution_count": null,
   "metadata": {},
   "outputs": [],
   "source": [
    "def deretFibonacci(banyakDeret):\n",
    "    a, b = 0, 1\n",
    "    jumlah = 0\n",
    "    \n",
    "    for i in range(banyakDeret):\n",
    "        print(jumlah)\n",
    "        a, b = b, jumlah\n",
    "        jumlah = a + b\n",
    "\n",
    "inputBanyakDeret = int(input(\"Masukkan banyak deret Fibonacci: \"))\n",
    "\n",
    "deretFibonacci(inputBanyakDeret)"
   ]
  },
  {
   "cell_type": "code",
   "execution_count": null,
   "metadata": {},
   "outputs": [],
   "source": [
    "def hitungVolumeTabung(jariJari, tinggi):\n",
    "    phi = 3.14\n",
    "    volume = phi * jariJari ** 2 * tinggi\n",
    "    return volume\n",
    "\n",
    "inputJariJari = int(input(\"Jari-jari tabung: \"))\n",
    "inputTinggi = int(input(\"Tinggi tabung: \"))\n",
    "\n",
    "volume = hitungVolumeTabung(inputJariJari, inputTinggi)\n",
    "\n",
    "print(f\"Volume tabung dengan jari-jari {inputJariJari} dan tinggi {inputTinggi} adalah {volume}\")"
   ]
  },
  {
   "cell_type": "code",
   "execution_count": null,
   "metadata": {},
   "outputs": [],
   "source": [
    "daftarInputNilai = input(\"Nilai: \").split(\", \")\n",
    "\n",
    "for i in range(len(daftarInputNilai)):\n",
    "    daftarInputNilai[i] = int(daftarInputNilai[i])\n",
    "\n",
    "def hitungTotal(nilai):\n",
    "    return sum(nilai)\n",
    "\n",
    "def hitungRataRata(total):\n",
    "    rataRata = total / len(daftarInputNilai)\n",
    "    return rataRata\n",
    "\n",
    "total = hitungTotal(daftarInputNilai)\n",
    "rataRata = hitungRataRata(total)\n",
    "\n",
    "print(f\"\"\"Total: {total}\n",
    "Rata-rata: {rataRata}\"\"\")"
   ]
  },
  {
   "cell_type": "code",
   "execution_count": null,
   "metadata": {},
   "outputs": [],
   "source": [
    "daftarInputNilai = input(\"Nilai: \").split(\", \")\n",
    "\n",
    "for i in range(len(daftarInputNilai)):\n",
    "    daftarInputNilai[i] = int(daftarInputNilai[i])\n",
    "\n",
    "def hitungTotaldanRerata(nilai):\n",
    "    total = sum(nilai)\n",
    "    rerata = total / len(nilai)\n",
    "    return total, rerata\n",
    "\n",
    "total = hitungTotaldanRerata(daftarInputNilai)[0]\n",
    "rerata = hitungTotaldanRerata(daftarInputNilai)[1]\n",
    "\n",
    "print(f\"\"\"Total: {total}\n",
    "Rata-rata: {rerata}\"\"\")"
   ]
  },
  {
   "cell_type": "code",
   "execution_count": null,
   "metadata": {},
   "outputs": [],
   "source": [
    "def login():\n",
    "    kesempatan = 3\n",
    "\n",
    "    while kesempatan > 0:\n",
    "        username = input(\"Username: \")\n",
    "        password = input(\"Password: \")\n",
    "        \n",
    "        if password == \"Latihan\":\n",
    "            print(f\"Selamat datang {username}! Anda berhasil login!\")\n",
    "            break\n",
    "            \n",
    "        else:\n",
    "            kesempatan -= 1\n",
    "            \n",
    "            if kesempatan <= 0:\n",
    "                print(f\"Maaf, kesempatan Anda telah habis! Anda telah keluar dari menu login.\")\n",
    "            else:\n",
    "                print(f\"Password Anda salah! Kesempatan Anda tinggal {kesempatan}x lagi!\")\n",
    "    \n",
    "login()"
   ]
  },
  {
   "cell_type": "code",
   "execution_count": null,
   "metadata": {},
   "outputs": [],
   "source": [
    "def hitungSelisih(mulaiJam, mulaiMenit, mulaiDetik, selesaiJam, selesaiMenit, selesaiDetik):\n",
    "\n",
    "    mulai = mulaiJam % 24 * 3600 + mulaiMenit * 60 + mulaiDetik\n",
    "    selesai = selesaiJam % 24 * 3600 + selesaiMenit * 60 + selesaiDetik\n",
    "    selisih = selesai - mulai\n",
    "\n",
    "    selisihDetik = selisih % 60\n",
    "    selisihMenit = round((selisih - selisihDetik) / 60) % 60\n",
    "    selisihJam = round((selisih - selisihMenit * 60 - selisihDetik) / 3600) % 60 % 36\n",
    "    \n",
    "    return selisihJam, selisihMenit, selisihDetik\n",
    "\n",
    "print(\"Input mulai: \")\n",
    "inputMulaiJam = int(input(\"Jam: \"))\n",
    "inputMulaiMenit = int(input(\"Menit: \"))\n",
    "inputMulaiDetik = int(input(\"Detik: \"))\n",
    "\n",
    "print()\n",
    "print(\"Input selesai: \")\n",
    "inputSelesaiJam = int(input(\"Jam: \"))\n",
    "inputSelesaiMenit = int(input(\"Menit: \"))\n",
    "inputSelesaiDetik = int(input(\"Detik: \"))\n",
    "\n",
    "selisih = hitungSelisih(inputMulaiJam, inputMulaiMenit, inputMulaiDetik, inputSelesaiJam, inputSelesaiMenit, inputSelesaiDetik)\n",
    "\n",
    "print(f\"\"\"\n",
    "Hitung selisih:\n",
    "{selisih[0]} jam - {selisih[1]} menit - {selisih[2]} detik\n",
    "\"\"\")"
   ]
  }
 ],
 "metadata": {
  "kernelspec": {
   "display_name": "Python 3",
   "language": "python",
   "name": "python3"
  },
  "language_info": {
   "codemirror_mode": {
    "name": "ipython",
    "version": 3
   },
   "file_extension": ".py",
   "mimetype": "text/x-python",
   "name": "python",
   "nbconvert_exporter": "python",
   "pygments_lexer": "ipython3",
   "version": "3.11.5"
  }
 },
 "nbformat": 4,
 "nbformat_minor": 2
}
