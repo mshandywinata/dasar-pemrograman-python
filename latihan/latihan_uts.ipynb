{
 "cells": [
  {
   "cell_type": "markdown",
   "metadata": {},
   "source": [
    "LATIHAN UTS BERSAMA"
   ]
  },
  {
   "cell_type": "code",
   "execution_count": 1,
   "metadata": {},
   "outputs": [
    {
     "name": "stdout",
     "output_type": "stream",
     "text": [
      "Suhu 30 derajat celcius = 86.0 derajat fahrenheit\n"
     ]
    }
   ],
   "source": [
    "suhu = int(input(\"Masukkan suhu dalam celcius: \"))\n",
    "suhu_fahrenheit = (suhu * 9/5) + 32\n",
    "\n",
    "print(f\"Suhu {suhu} derajat celcius = {suhu_fahrenheit} derajat fahrenheit\")"
   ]
  },
  {
   "cell_type": "code",
   "execution_count": 7,
   "metadata": {},
   "outputs": [
    {
     "name": "stdout",
     "output_type": "stream",
     "text": [
      "Jumlah bilangan kelipatan 3 di bawah 69 adalah 759\n"
     ]
    }
   ],
   "source": [
    "angka_mulai = int(input(\"Masukkan angka: \"))\n",
    "\n",
    "if angka_mulai % 3 >= 0:\n",
    "    jumlah = 0\n",
    "    for i in range(3, angka_mulai, 3):\n",
    "        jumlah +=\n",
    "        \n",
    "    print(f\"Jumlah bilangan kelipatan 3 di bawah {angka_mulai} adalah {jumlah}\")\n",
    "    \n",
    "else:\n",
    "    print(\"Masukkan Angka lebih atau sama dengan 3!\")"
   ]
  },
  {
   "cell_type": "code",
   "execution_count": 7,
   "metadata": {},
   "outputs": [
    {
     "name": "stdout",
     "output_type": "stream",
     "text": [
      "['otorhinolaryngology']\n"
     ]
    }
   ],
   "source": [
    "kalimat = input(\"Kalimat: \").split(\" \")\n",
    "batas_huruf = int(input(\"Batas Huruf: \"))\n",
    "\n",
    "lebih_dari_batas = []\n",
    "for kata in kalimat:\n",
    "    if len(kata) > batas_huruf:\n",
    "        lebih_dari_batas.append(kata)\n",
    "    else:\n",
    "        continue\n",
    "\n",
    "print(lebih_dari_batas)"
   ]
  },
  {
   "cell_type": "code",
   "execution_count": 23,
   "metadata": {},
   "outputs": [
    {
     "name": "stdout",
     "output_type": "stream",
     "text": [
      "Sisa: ['nanas', 'nanas', 'durian']\n"
     ]
    }
   ],
   "source": [
    "list_awal = input(\"Masukkan list awal: \").replace(\" \", \"\").split(\",\")\n",
    "list_filter = input(\"Masukkan list filter: \").replace(\" \",\"\").split(\",\")\n",
    "\n",
    "list_sisa = list_awal.copy()\n",
    "for item_awal in list_awal:\n",
    "    for item_filter in list_filter:\n",
    "        if item_awal == item_filter:\n",
    "            list_sisa.remove(item_filter)\n",
    "        else:\n",
    "            continue\n",
    "\n",
    "print(f\"Sisa: {list_sisa}\")"
   ]
  },
  {
   "cell_type": "code",
   "execution_count": 23,
   "metadata": {},
   "outputs": [
    {
     "name": "stdout",
     "output_type": "stream",
     "text": [
      "{'asep': 3, 'putra': 2}\n"
     ]
    }
   ],
   "source": [
    "nama_teman = input(\"Nama teman: \").lower().replace(\" \", \"\").split(\",\")\n",
    "teman = {}\n",
    "\n",
    "for nama in nama_teman:\n",
    "    if nama in teman:\n",
    "        continue\n",
    "    else:\n",
    "        teman.update({nama: nama_teman.count(nama)})\n",
    "\n",
    "print(teman)"
   ]
  },
  {
   "cell_type": "markdown",
   "metadata": {},
   "source": [
    "LATIHAN UTS ADUH"
   ]
  },
  {
   "cell_type": "code",
   "execution_count": 7,
   "metadata": {},
   "outputs": [
    {
     "name": "stdout",
     "output_type": "stream",
     "text": [
      "Salah! (sisa 2x kesempatan)\n",
      "Salah! (sisa 1x kesempatan)\n",
      "Anda tidak dapat mengakses aplikasi ini.\n"
     ]
    }
   ],
   "source": [
    "kesempatan = 3\n",
    "\n",
    "for i in range(kesempatan):\n",
    "    kode = input(\"Kode: \")\n",
    "    if kode == \"adm123\":\n",
    "        print(\"Selamat datang di aplikasi Achmad Pay.\")\n",
    "        break\n",
    "    elif kesempatan > 1 and kode != \"adm123\":\n",
    "        kesempatan -= 1\n",
    "        print(f\"Salah! (sisa {kesempatan}x kesempatan)\")\n",
    "    else:\n",
    "        print(\"Anda tidak dapat mengakses aplikasi ini.\")"
   ]
  },
  {
   "cell_type": "code",
   "execution_count": 54,
   "metadata": {},
   "outputs": [
    {
     "name": "stdout",
     "output_type": "stream",
     "text": [
      "\n",
      "Jumlah bilangan kelipatan 4: 44\n",
      "Jumlah bilangan kelipatan 5: 25\n",
      "\n"
     ]
    }
   ],
   "source": [
    "jumlahKelipatanEmpat = 0\n",
    "jumlahKelipatanLima = 0\n",
    "\n",
    "while True:\n",
    "    angka = int(input(\"Input: \"))\n",
    "    \n",
    "    if angka < 0:\n",
    "        break\n",
    "    elif angka % 4 == 0 and angka % 5 == 0:\n",
    "        jumlahKelipatanEmpat += angka\n",
    "        jumlahKelipatanLima += angka\n",
    "        continue\n",
    "    elif angka % 4 == 0:\n",
    "        jumlahKelipatanEmpat += angka\n",
    "        continue\n",
    "    elif angka % 5 == 0:\n",
    "        jumlahKelipatanLima += angka\n",
    "        continue\n",
    "    \n",
    "print(f'''\n",
    "Jumlah bilangan kelipatan 4: {jumlahKelipatanEmpat}\n",
    "Jumlah bilangan kelipatan 5: {jumlahKelipatanLima}\n",
    "''')\n",
    "        \n"
   ]
  },
  {
   "cell_type": "code",
   "execution_count": 16,
   "metadata": {},
   "outputs": [
    {
     "name": "stdout",
     "output_type": "stream",
     "text": [
      "8! = 8 * 7!\n",
      "7! = 7 * 6!\n",
      "6! = 6 * 5!\n",
      "5! = 5 * 4!\n",
      "4! = 4 * 3!\n",
      "3! = 3 * 2!\n",
      "2! = 2 * 1!\n",
      "1! = 1 * 0!\n"
     ]
    }
   ],
   "source": [
    "angka = int(input(\"Faktorial: \"))\n",
    "\n",
    "for i in range(angka, 0, -1):\n",
    "    print(f'{i}! = {i} * {i - 1}!')"
   ]
  },
  {
   "cell_type": "code",
   "execution_count": 21,
   "metadata": {},
   "outputs": [
    {
     "name": "stdout",
     "output_type": "stream",
     "text": [
      "Sistem akan memberikan karakter Mythic\n"
     ]
    }
   ],
   "source": [
    "keuntungan = int(input(\"Input: \"))\n",
    "\n",
    "if keuntungan % 2 != 0:\n",
    "    if 2 <= keuntungan <= 25:\n",
    "        kelas = 'SR'\n",
    "    elif 26 <= keuntungan <= 75:\n",
    "        kelas = 'Normal'\n",
    "    elif 76 <= keuntungan <= 90:\n",
    "        kelas = 'SSSR'\n",
    "    elif 91 <= keuntungan <= 100:\n",
    "        kelas = 'Legendary'\n",
    "else:\n",
    "    if 2 <= keuntungan <= 25:\n",
    "        kelas = 'Rare'\n",
    "    elif 26 <= keuntungan <= 75:\n",
    "        kelas = 'Common'\n",
    "    elif 76 <= keuntungan <= 90:\n",
    "        kelas = 'SSR'\n",
    "    elif 91 <= keuntungan <= 100:\n",
    "        kelas = 'Mythic'\n",
    "\n",
    "print(f\"Sistem akan memberikan karakter {kelas}\")\n",
    "    "
   ]
  },
  {
   "cell_type": "code",
   "execution_count": 70,
   "metadata": {},
   "outputs": [
    {
     "name": "stdout",
     "output_type": "stream",
     "text": [
      "Hasil perkalian nilai yang mengecil: 0\n"
     ]
    }
   ],
   "source": [
    "kesempatan = 3\n",
    "daftarAngka = []\n",
    "\n",
    "while kesempatan > 0:\n",
    "    angka = int(input(\"Input: \"))\n",
    "    \n",
    "    if angka not in daftarAngka or angka < min(daftarAngka):\n",
    "        daftarAngka.append(angka)\n",
    "        kesempatan = 3\n",
    "    else:\n",
    "        kesempatan -= 1\n",
    "\n",
    "hasil = 1\n",
    "for i in daftarAngka:\n",
    "    hasil *= i\n",
    "    \n",
    "print(f\"Hasil perkalian nilai yang mengecil: {hasil}\")"
   ]
  },
  {
   "cell_type": "code",
   "execution_count": 1,
   "metadata": {},
   "outputs": [
    {
     "name": "stdout",
     "output_type": "stream",
     "text": [
      "Hasil penjumlahan bilangan yang bukan prima: 0\n"
     ]
    }
   ],
   "source": [
    "banyakBilangan = int(input(\"Banyak bilangan: \"))\n",
    "jumlah = 0\n",
    "\n",
    "for i in range(1, banyakBilangan + 1):\n",
    "    bilangan = int(input(f\"Masukkan bilangan ke-{i}: \"))\n",
    "    \n",
    "    for i in range(2, int(bilangan ** (1/2)) + 1):\n",
    "        if bilangan % i == 0:\n",
    "            jumlah += bilangan\n",
    "            break\n",
    "        else:   \n",
    "            jumlah += 0\n",
    "            \n",
    "print(f\"Hasil penjumlahan bilangan yang bukan prima: {jumlah}\")"
   ]
  }
 ],
 "metadata": {
  "kernelspec": {
   "display_name": "Python 3",
   "language": "python",
   "name": "python3"
  },
  "language_info": {
   "codemirror_mode": {
    "name": "ipython",
    "version": 3
   },
   "file_extension": ".py",
   "mimetype": "text/x-python",
   "name": "python",
   "nbconvert_exporter": "python",
   "pygments_lexer": "ipython3",
   "version": "3.11.5"
  }
 },
 "nbformat": 4,
 "nbformat_minor": 2
}
