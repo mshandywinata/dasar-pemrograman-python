{
 "cells": [
  {
   "cell_type": "markdown",
   "metadata": {},
   "source": [
    "We check in a patient named John Smith. He's 20 years old and is a new patient."
   ]
  },
  {
   "cell_type": "code",
   "execution_count": null,
   "metadata": {},
   "outputs": [],
   "source": [
    "name = \"John Smith\"\n",
    "age = 20\n",
    "isNewPatient = True"
   ]
  },
  {
   "cell_type": "markdown",
   "metadata": {},
   "source": [
    "Ask two questions: person's name and favourite color. Then, print a message like \"Mosh likes blue\""
   ]
  },
  {
   "cell_type": "code",
   "execution_count": null,
   "metadata": {},
   "outputs": [],
   "source": [
    "name = input(\"What's your name? \")\n",
    "color = input(\"What color do you like the most?\")\n",
    "\n",
    "print(name + \" likes \" + color)"
   ]
  },
  {
   "cell_type": "markdown",
   "metadata": {},
   "source": [
    "Ask a user their weight (in pounds), convert it to kilograms and print on the terminal."
   ]
  },
  {
   "cell_type": "code",
   "execution_count": null,
   "metadata": {},
   "outputs": [],
   "source": [
    "weightLbs = float(input(\"Weight (lbs): \"))\n",
    "weightKg = str(weightLbs * 0.45)\n",
    "\n",
    "print(\"Your weight is \" + weightKg + \" kg.\")"
   ]
  },
  {
   "cell_type": "markdown",
   "metadata": {},
   "source": [
    "Price of a house is $1M. If buyer has good credit, they need to put down 10% of the price, otherwhise they need to put down 20%. Write a program with these rules and display the down payment for buyer with good creedit. "
   ]
  },
  {
   "cell_type": "code",
   "execution_count": null,
   "metadata": {},
   "outputs": [],
   "source": [
    "housePrice = 1000000\n",
    "hasGoodCredit = True\n",
    "\n",
    "if hasGoodCredit:\n",
    "    downPayment = 10 / 100 * housePrice\n",
    "else:\n",
    "    downPayment = 20 / 100 * housePrice\n",
    "    \n",
    "print(f\"Your down payment is ${round(downPayment)}\")"
   ]
  },
  {
   "cell_type": "markdown",
   "metadata": {},
   "source": [
    "If user's name is less than 3 chars, display name must be at least 3 chars. Otherwise if it's more than 50 chars, display name can be a maximum of 50 chars. Otherwise tell the user that the name looks good."
   ]
  },
  {
   "cell_type": "code",
   "execution_count": null,
   "metadata": {},
   "outputs": [],
   "source": [
    "name = input(\"Your name: \")\n",
    "\n",
    "if len(name) < 3:\n",
    "    print(\"name must be at least 3 characters\")\n",
    "elif len(name) > 50:\n",
    "    print(\"name can be a maximum of 50 characters\")\n",
    "else:\n",
    "    print(\"name looks good!\")"
   ]
  },
  {
   "cell_type": "markdown",
   "metadata": {},
   "source": [
    "Create a program that allows user to input weight value and then choice wether to convert to (L)bs or (K)g. The program is not case sensitive."
   ]
  },
  {
   "cell_type": "code",
   "execution_count": null,
   "metadata": {},
   "outputs": [],
   "source": [
    "weight = float(input(\"Weight: \"))\n",
    "unit = input(\"(L)bs or (K)g: \").lower()\n",
    "\n",
    "if unit == \"l\":\n",
    "    weight *= 0.45\n",
    "    print(f\"Your weight is {weight} Kg.\")\n",
    "elif unit == \"k\":\n",
    "    weight /= 0.45\n",
    "    print(f\"Your weight is {weight} Lbs.\")\n",
    "else:\n",
    "    print(\"Invalid input\")"
   ]
  },
  {
   "cell_type": "markdown",
   "metadata": {},
   "source": [
    "Create a guessing game where user asked to guess a number (0-9). When the user's guess is wrong, the user will asked to input the guess again. User has three chances to guess the number."
   ]
  },
  {
   "cell_type": "code",
   "execution_count": null,
   "metadata": {},
   "outputs": [],
   "source": [
    "number, chance = 7, 3\n",
    "\n",
    "while chance > 0:\n",
    "    guess = int(input(\"Guess the number: \"))\n",
    "    chance -= 1\n",
    "    \n",
    "    if guess == number:\n",
    "        print(\"You won!\")\n",
    "        break\n",
    "    elif chance == 0:\n",
    "        print(\"Sorry, you failed!\")"
   ]
  },
  {
   "cell_type": "markdown",
   "metadata": {},
   "source": [
    "Build a game that simulates the behavior of a car. The program will asks user's input again and again until he choose to quit/exit.\n",
    "If user types 'help', the program will display a list of command that user can type in.\n",
    "If user types 'start' the program will display \"Car started... ready to go!\"\n",
    "If user types 'stop' the program will display \"Car stopped\"\n",
    "Outside of the list, the program will display \"I don't understand that...\".\n",
    "\n",
    "Note: the program is not case sensitive"
   ]
  },
  {
   "cell_type": "code",
   "execution_count": null,
   "metadata": {},
   "outputs": [],
   "source": [
    "helpDisplay = \"\"\"\n",
    "start - to start the car\n",
    "stop - to stop the car\n",
    "quit - to exit the game\n",
    "\"\"\"\n",
    "\n",
    "while True:\n",
    "    choice = input(\"> \").lower()\n",
    "    \n",
    "    if choice == \"help\":\n",
    "        print(helpDisplay)\n",
    "    elif choice == \"quit\":\n",
    "        break\n",
    "    elif choice == \"start\":\n",
    "        print(\"Cat started... ready to go!\")\n",
    "    elif choice == \"stop\":\n",
    "        print(\"Car stopped.\")\n",
    "    else:\n",
    "        print(\"I don't understand that...\")"
   ]
  },
  {
   "cell_type": "markdown",
   "metadata": {},
   "source": [
    "Improve the code above so that the car can't start the engine twice (display yelling word at the user). The same rule applies to stop command (display 'The car is already stopped, what are you doing?'). Plus, if the user stop the car even when it's not started yet, yell at him."
   ]
  },
  {
   "cell_type": "code",
   "execution_count": null,
   "metadata": {},
   "outputs": [],
   "source": [
    "helpDisplay = \"\"\"\n",
    "start - to start the car\n",
    "stop - to stop the car\n",
    "quit - to exit the game\n",
    "\"\"\"\n",
    "hasStopped, hasStarted = True, False\n",
    "\n",
    "while True:\n",
    "    choice = input(\"> \").lower()\n",
    "    \n",
    "    if choice == \"help\":\n",
    "        print(helpDisplay)\n",
    "    elif choice == \"quit\":\n",
    "        break\n",
    "    elif choice == \"start\":\n",
    "        if hasStopped:\n",
    "            print(\"Cat started... ready to go!\")\n",
    "            hasStopped, hasStarted = False, True\n",
    "        else:\n",
    "            print(\"The car is already started dumbass!\")\n",
    "    elif choice == \"stop\":\n",
    "        if hasStopped and hasStarted:\n",
    "            print(\"The car is already stopped, what are you doing?\")\n",
    "        elif hasStopped:\n",
    "            print(\"You don't even start the car yet!\")\n",
    "        else:\n",
    "            print(\"Car stopped.\")\n",
    "            hasStopped = True\n",
    "    else:\n",
    "        print(\"I don't understand that...\")"
   ]
  },
  {
   "cell_type": "markdown",
   "metadata": {},
   "source": [
    "Calculate the total cost of a shopping list using for loop\n",
    "prices = [10, 20, 30]"
   ]
  },
  {
   "cell_type": "code",
   "execution_count": null,
   "metadata": {},
   "outputs": [],
   "source": [
    "prices = [10, 20, 30]\n",
    "total = 0\n",
    "\n",
    "for price in prices:\n",
    "    total += price\n",
    "print(f\"The total is: {total}\")"
   ]
  },
  {
   "cell_type": "markdown",
   "metadata": {},
   "source": [
    "Using nested loop, draw a shape of 'F'. The clue is we have this value:\n",
    "numbers = [5, 2, 5, 2, 2]\n",
    "Those values determine the number of x's for each line.\n",
    "\n",
    "Note: try to not using string multiplication feature\n",
    "Addition: try to change the numbers in the list so that the output is 'L'"
   ]
  },
  {
   "cell_type": "code",
   "execution_count": null,
   "metadata": {},
   "outputs": [],
   "source": [
    "numbers = [2, 2, 2, 2, 5]\n",
    "\n",
    "for number in numbers:\n",
    "    output = \"\"\n",
    "    for x in range(number):\n",
    "        output += \"x\"\n",
    "    print(output)"
   ]
  },
  {
   "cell_type": "markdown",
   "metadata": {},
   "source": [
    "Write a program to find the largest number in a list."
   ]
  },
  {
   "cell_type": "code",
   "execution_count": null,
   "metadata": {},
   "outputs": [],
   "source": [
    "numbers = [1, 4, 6, 2, 9, 6, 9]\n",
    "maxNumber = numbers[0]\n",
    "\n",
    "for number in numbers:\n",
    "    if number > maxNumber:\n",
    "        maxNumber = number\n",
    "print(maxNumber)"
   ]
  },
  {
   "cell_type": "markdown",
   "metadata": {},
   "source": [
    "Write a program to remove the duplicates in a list"
   ]
  },
  {
   "cell_type": "code",
   "execution_count": null,
   "metadata": {},
   "outputs": [],
   "source": [
    "numbers = [1, 4, 5, 9, 9, 10, 19, 5, 3, 3, 3, 1, 1, 7, 8, 9, 5, 0, 9, 8]\n",
    "uniques = []\n",
    "\n",
    "for number in numbers:\n",
    "    if number not in uniques:\n",
    "        uniques.append(number)\n",
    "print(uniques)"
   ]
  },
  {
   "cell_type": "code",
   "execution_count": null,
   "metadata": {},
   "outputs": [],
   "source": [
    "numbers = [1, 4, 5, 9, 9, 10, 19, 5, 3, 3, 3, 1, 1, 7, 8, 9, 5, 0, 9, 8]\n",
    "uniques = list(set(numbers))\n",
    "\n",
    "print(uniques)"
   ]
  },
  {
   "cell_type": "code",
   "execution_count": null,
   "metadata": {},
   "outputs": [],
   "source": [
    "numbers = [2, 7, 9]\n",
    "x, y, z = numbers\n",
    "\n",
    "print(numbers)"
   ]
  },
  {
   "cell_type": "markdown",
   "metadata": {},
   "source": [
    "Create a program that asks our phone number and then prints out the 'word' of every number.\n",
    "Ex: 1344 => One Three Four Four"
   ]
  },
  {
   "cell_type": "code",
   "execution_count": null,
   "metadata": {},
   "outputs": [],
   "source": [
    "import random\n",
    "\n",
    "numbers = {\n",
    "    \"0\": \"Zero\",\n",
    "    \"1\": \"One\",\n",
    "    \"2\": \"Two\",\n",
    "    \"3\": \"Three\",\n",
    "    \"4\": \"Four\",\n",
    "    \"5\": \"Five\",\n",
    "    \"6\": \"Six\",\n",
    "    \"7\": \"Seven\",\n",
    "    \"8\": \"Eight\",\n",
    "    \"9\": \"Nine\"\n",
    "}\n",
    "\n",
    "phoneNumber = input(\"Phone Number: \")\n",
    "print(phoneNumber)\n",
    "\n",
    "for number in phoneNumber:\n",
    "    print(numbers[number], end = \" \")"
   ]
  },
  {
   "cell_type": "markdown",
   "metadata": {},
   "source": [
    "Emoji converter"
   ]
  },
  {
   "cell_type": "code",
   "execution_count": null,
   "metadata": {},
   "outputs": [],
   "source": [
    "messages = input(\"> \").split(\" \")\n",
    "output = \"\"\n",
    "emojis = {\n",
    "    \":)\": \"😀\",\n",
    "    \":(\": \"😔\",\n",
    "    \":*\": \"😗\",\n",
    "    \">:(\": \"😠\"\n",
    "}\n",
    "\n",
    "for word in messages:\n",
    "    output += emojis.get(word, word) + \" \"\n",
    "print(output)"
   ]
  },
  {
   "cell_type": "markdown",
   "metadata": {},
   "source": []
  }
 ],
 "metadata": {
  "kernelspec": {
   "display_name": "Python 3",
   "language": "python",
   "name": "python3"
  },
  "language_info": {
   "codemirror_mode": {
    "name": "ipython",
    "version": 3
   },
   "file_extension": ".py",
   "mimetype": "text/x-python",
   "name": "python",
   "nbconvert_exporter": "python",
   "pygments_lexer": "ipython3",
   "version": "3.12.0"
  }
 },
 "nbformat": 4,
 "nbformat_minor": 2
}
