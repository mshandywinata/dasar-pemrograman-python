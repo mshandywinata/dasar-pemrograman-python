{
 "cells": [
  {
   "cell_type": "code",
   "execution_count": 1,
   "metadata": {},
   "outputs": [
    {
     "name": "stdout",
     "output_type": "stream",
     "text": [
      "Anda masuk ke kelas B-1\n"
     ]
    }
   ],
   "source": [
    "tigaDigitNIM = int(input('NIM (3 digit terakhir): '))\n",
    "    \n",
    "if tigaDigitNIM > 0 and tigaDigitNIM <= 300:\n",
    "    kelas = 'A'\n",
    "elif tigaDigitNIM > 300 and tigaDigitNIM <= 800:\n",
    "    kelas = 'B'\n",
    "else:\n",
    "    kelas = 'C'\n",
    "    \n",
    "if tigaDigitNIM % 2 != 0:\n",
    "    subKelas = '1'\n",
    "else:\n",
    "    subKelas = '2'\n",
    "    \n",
    "print(f\"Anda masuk ke kelas {kelas}-{subKelas}\")"
   ]
  },
  {
   "cell_type": "markdown",
   "metadata": {},
   "source": [
    "Anda sedang berkemah bersama teman-teman Anda jauh dari rumah, tetapi ketika tiba waktunya untuk kembali, Anda menyadari bahwa bahan bakar Anda hampir habis dan pompa terdekat berjarak 50 mil! Anda tahu bahwa rata-rata, kecepatan mobil Anda sekitar 25 mil per galon. Tinggal 2 galon lagi.\n",
    "\n",
    "Dengan mempertimbangkan faktor-faktor ini, tuliskan fungsi yang memberitahukan Anda apakah pompa dapat dijangkau atau tidak.\n",
    "\n",
    "Fungsi harus mengembalikan nilai true jika memungkinkan dan false jika tidak."
   ]
  },
  {
   "cell_type": "code",
   "execution_count": 12,
   "metadata": {},
   "outputs": [
    {
     "name": "stdout",
     "output_type": "stream",
     "text": [
      "True\n"
     ]
    }
   ],
   "source": [
    "def terjangkau(jarak, kecepatan, bahanBakar):\n",
    "    return jarak / kecepatan == bahanBakar\n",
    "\n",
    "print(terjangkau(50, 25, 2))\n"
   ]
  },
  {
   "cell_type": "markdown",
   "metadata": {},
   "source": [
    "Buat program Python yang meminta pengguna untuk memasukkan serangkaian angka positif. Program harus mencari angka unik dalam serangkaian angka tersebut. Angka unik adalah angka yang belum pernah dimasukkan sebelumnya. Jika angka tersebut telah dimasukkan sebelumnya, program harus mengabaikannya dan melanjutkan ke angka berikutnya. Program berhenti jika pengguna memasukkan angka 0. Setelah program selesai, tampilkan daftar angka unik yang dimasukkan."
   ]
  },
  {
   "cell_type": "code",
   "execution_count": 10,
   "metadata": {},
   "outputs": [
    {
     "name": "stdout",
     "output_type": "stream",
     "text": [
      "Masukkan input yang valid!\n",
      "Masukkan input yang valid!\n",
      "Masukkan input yang valid!\n",
      "Masukkan input yang valid!\n",
      "Masukkan input yang valid!\n",
      "Masukkan input yang valid!\n",
      "Masukkan input yang valid!\n",
      "Masukkan input yang valid!\n",
      "Masukkan input yang valid!\n",
      "Masukkan input yang valid!\n",
      "Masukkan input yang valid!\n",
      "Masukkan input yang valid!\n",
      "Masukkan input yang valid!\n",
      "Masukkan input yang valid!\n",
      "Masukkan input yang valid!\n",
      "Masukkan input yang valid!\n",
      "Masukkan input yang valid!\n",
      "Masukkan input yang valid!\n",
      "Masukkan input yang valid!\n",
      "Masukkan input yang valid!\n"
     ]
    }
   ],
   "source": [
    "listAngka = []\n",
    "\n",
    "while True:\n",
    "    angka = input(\"Masukkan angka (positif): \")\n",
    "    \n",
    "    if angka.isdigit():\n",
    "        angka = int(angka)\n",
    "        if angka in listAngka:\n",
    "            print(\"Angka sudah ada\")\n",
    "            continue\n",
    "        elif angka == 0:\n",
    "            break\n",
    "        else:\n",
    "            listAngka.append(angka)\n",
    "    else:\n",
    "        print(\"Masukkan input yang valid!\")\n",
    "        continue\n",
    "\n",
    "for i in range(len(listAngka)):\n",
    "    print(listAngka[i])\n"
   ]
  }
 ],
 "metadata": {
  "kernelspec": {
   "display_name": "Python 3",
   "language": "python",
   "name": "python3"
  },
  "language_info": {
   "codemirror_mode": {
    "name": "ipython",
    "version": 3
   },
   "file_extension": ".py",
   "mimetype": "text/x-python",
   "name": "python",
   "nbconvert_exporter": "python",
   "pygments_lexer": "ipython3",
   "version": "3.11.5"
  }
 },
 "nbformat": 4,
 "nbformat_minor": 2
}
