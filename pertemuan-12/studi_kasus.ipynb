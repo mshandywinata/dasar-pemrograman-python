{
 "cells": [
  {
   "cell_type": "markdown",
   "metadata": {},
   "source": [
    "Sebuah toko memiliki stok barang yang tersedia. Buatlah program Python untuk mencari apakah\n",
    "suatu barang tersedia dalam stok toko.. (Buatlah array dummy dimana jumlah elemen ada 15 barang)"
   ]
  },
  {
   "cell_type": "code",
   "execution_count": null,
   "metadata": {},
   "outputs": [],
   "source": [
    "import time as tm\n",
    "\n",
    "def linearSearch(arr, target):\n",
    "    for item in range(len(arr)):\n",
    "        if arr[item] == target:\n",
    "            return item\n",
    "    return -1\n",
    "\n",
    "stokBarang = [\"garam\", \"gula\", \"beras\", \"kacang\", \"ayam\", \"ikan\", \"telur\", \"susu\", \"keju\", \"mentega\", \"minyak\", \"bumbu\", \"cabai\", \"terasi\", \"tepung\"]\n",
    "barangTarget = \"tepung\"\n",
    "\n",
    "mulai = tm.perf_counter()\n",
    "hasil = linearSearch(stokBarang, barangTarget)\n",
    "selesai = tm.perf_counter()\n",
    "runtime = selesai - mulai\n",
    "\n",
    "if hasil != -1:\n",
    "    print(f\"Barang {barangTarget} ditemukan pada indeks ke-{hasil}\")\n",
    "else:\n",
    "    print(f\"Barang {barangTarget} tidak ditemukan dalam array\")\n",
    "    \n",
    "print(f\"Runtime: {runtime:.3} detik\")"
   ]
  },
  {
   "cell_type": "code",
   "execution_count": null,
   "metadata": {},
   "outputs": [],
   "source": [
    "import time as tm\n",
    "\n",
    "def binarySearch(arr, target):\n",
    "    indexLow, indexHigh = 0, len(arr) - 1\n",
    "    \n",
    "    while indexLow <= indexHigh:\n",
    "        tengah = (indexLow + indexHigh) // 2\n",
    "        nilaiTengah = arr[tengah]\n",
    "        \n",
    "        if nilaiTengah == target:\n",
    "            return tengah\n",
    "        elif nilaiTengah < target:\n",
    "            indexLow = tengah + 1\n",
    "        else:\n",
    "            indexHigh = tengah - 1\n",
    "            \n",
    "    return -1\n",
    "\n",
    "stokBarang = [\"garam\", \"gula\", \"beras\", \"kacang\", \"ayam\", \"ikan\", \"telur\", \"susu\", \"keju\", \"mentega\", \"minyak\", \"bumbu\", \"cabai\", \"terasi\", \"tepung\"]\n",
    "barangTarget = \"tepung\"\n",
    "\n",
    "mulai = tm.perf_counter()\n",
    "hasil = binarySearch(stokBarang, barangTarget)\n",
    "selesai = tm.perf_counter()\n",
    "runtime = selesai - mulai\n",
    "\n",
    "if hasil != -1:\n",
    "    print(f\"Barang {barangTarget} ditemukan pada indeks ke-{hasil}\")\n",
    "else:\n",
    "    print(f\"Barang {barangTarget} tidak ditemukan dalam array\")\n",
    "    \n",
    "print(f\"Runtime: {runtime:.3} detik\")"
   ]
  },
  {
   "cell_type": "markdown",
   "metadata": {},
   "source": [
    "Universitas Pendidikan Indonesia memiliki daftar mahasiswa yang terdaftar di prodi RPL. Buatlah\n",
    "program Python untuk mencari apakah nama seorang mahasiswa tertentu ada dalam daftar\n",
    "tersebut? (Buat nama tersebut berdasarkan inputan dari user dan buat array dummy 20 elemen untuk\n",
    "daftar nama mahasiswanya)"
   ]
  },
  {
   "cell_type": "code",
   "execution_count": null,
   "metadata": {},
   "outputs": [],
   "source": [
    "def linearSearch(arr, target):\n",
    "    for item in range(len(arr)):\n",
    "        if arr[item] == target:\n",
    "            return item\n",
    "        \n",
    "    return -1\n",
    "\n",
    "daftarNama = [\"arul\", \"andika\", \"fatra\", \"mahesa\", \"fadhel\", \"achmad\", \"rafi\", \"bagas\", \"shandy\", \"ghaisan\", \"zam\", \"gregorius\", \"shaehyan\", \"zie\", \"mutia\", \"haryo\", \"fadli\", \"zikri\", \"wilga\", \"asep\"]\n",
    "namaTarget = input(\"Masukkan nama yang ingin dicari: \")\n",
    "\n",
    "hasil = linearSearch(daftarNama, namaTarget)\n",
    "\n",
    "if hasil != -1:\n",
    "    print(f\"Nama {namaTarget} ditemukan pada indeks ke-{hasil}\")\n",
    "else:\n",
    "    print(f\"Nama {namaTarget} tidak ditemukan dalam array\")"
   ]
  },
  {
   "cell_type": "markdown",
   "metadata": {},
   "source": [
    "Dari algoritma Linear Search dan Binary Search yang telah Anda pelajari, buatlah perbandingan\n",
    "running program (execution time) dengan 2 algoritma tersebut. Buatlah dengan menggunakan\n",
    "sortedArray berikut:\n",
    "array = [1, 2, 5, 7, 8, 10, 16, 18, 19, 23, 24, 26, 28, 29, 32, 33, 34, 35, 36, 38, 40, 41, 42, 43, 44, 46, 48, 49, 51, 55, 57,\n",
    "58, 59, 60, 63, 65, 66, 69, 74, 75, 76, 77, 78, 79, 81, 82, 85, 90, 93, 100]\n",
    "Tentukan manakah dari ke 2 algoritma tersebut yang paling cepat untuk mencari nilai 60?"
   ]
  },
  {
   "cell_type": "code",
   "execution_count": null,
   "metadata": {},
   "outputs": [],
   "source": [
    "import time as tm\n",
    "\n",
    "def linearSearch(arr, target):\n",
    "    for item in range(len(arr)):\n",
    "        if arr[item] == target:\n",
    "            return item\n",
    "    return -1\n",
    "\n",
    "sortedArray = [1, 2, 5, 7, 8, 10, 16, 18, 19, 23, 24, 26, 28, 29, 32, 33, 34, 35, 36, 38, 40, 41, 42, 43, 44, 46, 48, 49, 51, 55, 57, 58, 59, 60, 63, 65, 66, 69, 74, 75, 76, 77, 78, 79, 81, 82, 85, 90, 93, 100]\n",
    "nilaiTarget = 60\n",
    "\n",
    "mulai = tm.perf_counter()\n",
    "hasil = linearSearch(sortedArray, nilaiTarget)\n",
    "selesai = tm.perf_counter()\n",
    "runtime = selesai - mulai\n",
    "\n",
    "if hasil != -1:\n",
    "    print(f\"Nilai {nilaiTarget} ditemukan pada indeks ke-{hasil}\")\n",
    "else:\n",
    "    print(f\"Nilai {nilaiTarget} tidak ditemukan dalam array\")\n",
    "    \n",
    "print(f\"Runtime: {runtime:.3} detik\")"
   ]
  },
  {
   "cell_type": "code",
   "execution_count": null,
   "metadata": {},
   "outputs": [],
   "source": [
    "import time as tm\n",
    "\n",
    "def binarySearch(arr, target):\n",
    "    indexLow, indexHigh = 0, len(arr) - 1\n",
    "    \n",
    "    while indexLow <= indexHigh:\n",
    "        tengah = (indexLow + indexHigh) // 2\n",
    "        nilaiTengah = arr[tengah]\n",
    "        \n",
    "        if nilaiTengah == target:\n",
    "            return tengah\n",
    "        elif nilaiTengah < target:\n",
    "            indexLow = tengah + 1\n",
    "        else:\n",
    "            indexHigh = tengah - 1\n",
    "            \n",
    "    return -1\n",
    "\n",
    "sortedArray = [1, 2, 5, 7, 8, 10, 16, 18, 19, 23, 24, 26, 28, 29, 32, 33, 34, 35, 36, 38, 40, 41, 42, 43, 44, 46, 48, 49, 51, 55, 57, 58, 59, 60, 63, 65, 66, 69, 74, 75, 76, 77, 78, 79, 81, 82, 85, 90, 93, 100]\n",
    "nilaiTarget = 60\n",
    "\n",
    "mulai = tm.perf_counter()\n",
    "hasil = binarySearch(sortedArray, nilaiTarget)\n",
    "selesai = tm.perf_counter()\n",
    "runtime = selesai - mulai\n",
    "\n",
    "if hasil != -1:\n",
    "    print(f\"Nilai {nilaiTarget} ditemukan pada indeks ke-{hasil}\")\n",
    "else:\n",
    "    print(f\"Nilai {nilaiTarget} tidak ditemukan dalam array\")\n",
    "    \n",
    "print(f\"Runtime: {runtime:.3} detik\")"
   ]
  }
 ],
 "metadata": {
  "kernelspec": {
   "display_name": "Python 3",
   "language": "python",
   "name": "python3"
  },
  "language_info": {
   "codemirror_mode": {
    "name": "ipython",
    "version": 3
   },
   "file_extension": ".py",
   "mimetype": "text/x-python",
   "name": "python",
   "nbconvert_exporter": "python",
   "pygments_lexer": "ipython3",
   "version": "3.12.0"
  }
 },
 "nbformat": 4,
 "nbformat_minor": 2
}
