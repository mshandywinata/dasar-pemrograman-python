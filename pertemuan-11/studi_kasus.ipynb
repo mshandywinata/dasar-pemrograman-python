{
 "cells": [
  {
   "cell_type": "markdown",
   "metadata": {},
   "source": [
    "Bubble Sort"
   ]
  },
  {
   "cell_type": "code",
   "execution_count": null,
   "metadata": {},
   "outputs": [],
   "source": [
    "import time as tm\n",
    "\n",
    "def bubbleSort(arr):\n",
    "    n = len(arr)\n",
    "    for i in range(n):\n",
    "        for j in range(n - i - 1):\n",
    "            if arr[j] > arr[j + 1]:\n",
    "                arr[j], arr[j + 1] = arr[j + 1], arr[j]\n",
    "    return arr\n",
    "\n",
    "testArray = [7, 1, 36, 26, 63, 93, 55, 16, 19, 38, 74, 65, 18, 59, 8, 43, 24, 79, 49, 35, 23, 78, 51, 2, 46, 28, 60, 76,\n",
    "10, 85, 66, 29, 82, 58, 69, 75, 48, 100, 5, 32, 40, 33, 34, 90, 81, 42, 57, 44, 41, 77]\n",
    "print(f\"Unsorted: {testArray}\")\n",
    "\n",
    "mulai = tm.perf_counter()\n",
    "sortedArray = bubbleSort(testArray)\n",
    "\n",
    "execTime = tm.perf_counter() - mulai\n",
    "\n",
    "print(f\"\"\"\n",
    "Sorted: {sortedArray}\n",
    "\n",
    "Exec Time: {execTime:.3} detik\n",
    "\"\"\")"
   ]
  },
  {
   "cell_type": "markdown",
   "metadata": {},
   "source": [
    "Selection Sort"
   ]
  },
  {
   "cell_type": "code",
   "execution_count": null,
   "metadata": {},
   "outputs": [],
   "source": [
    "import time as tm\n",
    "\n",
    "def selectionSort(arr):\n",
    "    n = len(arr)\n",
    "    for i in range(n):\n",
    "        min_idx = i\n",
    "        for j in range(i + 1, n):\n",
    "            if arr[min_idx] > arr[j]:\n",
    "                min_idx = j\n",
    "        \n",
    "        arr[i], arr[min_idx] = arr[min_idx], arr[i]\n",
    "    return arr\n",
    "\n",
    "testArray = [7, 1, 36, 26, 63, 93, 55, 16, 19, 38, 74, 65, 18, 59, 8, 43, 24, 79, 49, 35, 23, 78, 51, 2, 46, 28, 60, 76,\n",
    "10, 85, 66, 29, 82, 58, 69, 75, 48, 100, 5, 32, 40, 33, 34, 90, 81, 42, 57, 44, 41, 77]\n",
    "print(f\"Unsorted: {testArray}\")\n",
    "\n",
    "mulai = tm.perf_counter()\n",
    "sortedArray = selectionSort(testArray)\n",
    "\n",
    "execTime = tm.perf_counter() - mulai\n",
    "\n",
    "print(f\"\"\"\n",
    "Sorted: {sortedArray}\n",
    "\n",
    "Exec Time: {execTime:.3} detik\n",
    "\"\"\")"
   ]
  },
  {
   "cell_type": "markdown",
   "metadata": {},
   "source": [
    "Insertion Sort"
   ]
  },
  {
   "cell_type": "code",
   "execution_count": null,
   "metadata": {},
   "outputs": [],
   "source": [
    "import time as tm\n",
    "\n",
    "def insertionSort(arr):\n",
    "    for i in range(1, len(arr)):\n",
    "        key = arr[i]\n",
    "        j = i - 1\n",
    "        \n",
    "        while j >= 0 and arr[j] > key:\n",
    "            arr[j + 1] = arr[j]\n",
    "            j -= 1\n",
    "            \n",
    "        arr[j + 1] = key\n",
    "    return arr\n",
    "\n",
    "testArray = [7, 1, 36, 26, 63, 93, 55, 16, 19, 38, 74, 65, 18, 59, 8, 43, 24, 79, 49, 35, 23, 78, 51, 2, 46, 28, 60, 76,\n",
    "10, 85, 66, 29, 82, 58, 69, 75, 48, 100, 5, 32, 40, 33, 34, 90, 81, 42, 57, 44, 41, 77]\n",
    "print(f\"Unsorted: {testArray}\")\n",
    "\n",
    "mulai = tm.perf_counter()\n",
    "sortedArray = insertionSort(testArray)\n",
    "selesai = tm.perf_counter()\n",
    "\n",
    "execTime = tm.perf_counter() - mulai\n",
    "\n",
    "print(f\"\"\"\n",
    "Sorted: {sortedArray}\n",
    "\n",
    "Execution Time: {execTime:.3} detik\n",
    "\"\"\")"
   ]
  },
  {
   "cell_type": "markdown",
   "metadata": {},
   "source": [
    "Heap Sort"
   ]
  },
  {
   "cell_type": "code",
   "execution_count": null,
   "metadata": {},
   "outputs": [],
   "source": [
    "def heapify(arr, n, i):\n",
    "    terbesar = i  # Menginisialisasi simpul terbesar sebagai simpul saat ini\n",
    "    kiri = 2 * i + 1  # Indeks anak kiri dalam array\n",
    "    kanan = 2 * i + 2  # Indeks anak kanan dalam array\n",
    "\n",
    "    # Bandingkan dengan child kiri untuk memastikan node terbesar\n",
    "    if kiri < n and arr[kiri] > arr[terbesar]:\n",
    "        terbesar = kiri\n",
    "\n",
    "    # Bandingkan dengan child kanan untuk memastikan node terbesar\n",
    "    if kanan < n and arr[kanan] > arr[terbesar]:\n",
    "        terbesar = kanan\n",
    "\n",
    "    # Jika node terbesar bukanlah simpul saat ini, tukar dan rekursif\n",
    "    if terbesar != i:\n",
    "        arr[i], arr[terbesar] = arr[terbesar], arr[i]\n",
    "        heapify(arr, n, terbesar)\n",
    "\n",
    "def heapSort(arr):\n",
    "    n = len(arr)\n",
    "\n",
    "    # Membangun heap maksimum\n",
    "    for i in range(n // 2 - 1, -1, -1):\n",
    "        heapify(arr, n, i)\n",
    "\n",
    "    # Ekstrak elemen satu per satu dari heap\n",
    "    for i in range(n - 1, 0, -1):\n",
    "        arr[i], arr[0] = arr[0], arr[i] # Tukar elemen teratas dengan elemen terakhir\n",
    "        heapify(arr, i, 0) # Rekursif membangun heap untuk sisa array\n",
    "        \n",
    "testArray = [7, 1, 36, 26, 63, 93, 55, 16, 19, 38, 74, 65, 18, 59, 8, 43, 24, 79, 49, 35, 23, 78, 51, 2, 46, 28, 60, 76,\n",
    "10, 85, 66, 29, 82, 58, 69, 75, 48, 100, 5, 32, 40, 33, 34, 90, 81, 42, 57, 44, 41, 77]\n",
    "print(f\"Unsorted: {testArray}\")\n",
    "\n",
    "mulai = tm.perf_counter()\n",
    "sortedArray = insertionSort(testArray)\n",
    "selesai = tm.perf_counter()\n",
    "\n",
    "execTime = tm.perf_counter() - mulai\n",
    "\n",
    "print(f\"\"\"\n",
    "Sorted: {sortedArray}\n",
    "\n",
    "Execution Time: {execTime:.3} detik\n",
    "\"\"\")"
   ]
  }
 ],
 "metadata": {
  "kernelspec": {
   "display_name": "Python 3",
   "language": "python",
   "name": "python3"
  },
  "language_info": {
   "codemirror_mode": {
    "name": "ipython",
    "version": 3
   },
   "file_extension": ".py",
   "mimetype": "text/x-python",
   "name": "python",
   "nbconvert_exporter": "python",
   "pygments_lexer": "ipython3",
   "version": "3.12.0"
  }
 },
 "nbformat": 4,
 "nbformat_minor": 2
}
