{
 "cells": [
  {
   "cell_type": "markdown",
   "metadata": {},
   "source": [
    "Seorang ilmuan memiliki sebuah array 1D yang isinya adalah suhu di Singapura selama 10\n",
    "hari terakhir. Suhu tersebut ingin dikonversi dari Celcius menjadi Farenheit. Buatlah\n",
    "programnya dengan menggunakan library Numpy! (Catatan: silahkan buat data dummy\n",
    "untuk suhu 10 hari tersebut)."
   ]
  },
  {
   "cell_type": "code",
   "execution_count": null,
   "metadata": {},
   "outputs": [],
   "source": [
    "import numpy as np\n",
    "import random as rand\n",
    "\n",
    "def pembuatDataDummy(batasBawah, batasAtas, banyakData):\n",
    "    return [rand.randrange(batasBawah, batasAtas) for i in range(banyakData)]\n",
    "\n",
    "suhuSingapura = np.array(pembuatDataDummy(0, 100, 10))\n",
    "print(f\"Suhu di Singapura (Celcius): {suhuSingapura}\")\n",
    "\n",
    "for i in range(len(suhuSingapura)):\n",
    "    suhuSingapura[i] = (suhuSingapura[i] * 9 / 5) + 32\n",
    "\n",
    "print(f\"Suhu di Singapura (Fahrenheit): {suhuSingapura}\")"
   ]
  },
  {
   "cell_type": "code",
   "execution_count": null,
   "metadata": {},
   "outputs": [],
   "source": [
    "import numpy as np\n",
    "import random as rand\n",
    "\n",
    "def pembuatDataDummy(batasBawah, batasAtas, banyakData):\n",
    "    return [rand.randrange(batasBawah, batasAtas) for i in range(banyakData)]\n",
    "\n",
    "suhuSingapuraCelcius = np.array(pembuatDataDummy(0, 100, 10))\n",
    "suhuSingapuraFarenheit = np.array([])\n",
    "\n",
    "for i in range(len(suhuSingapuraCelcius)):\n",
    "    suhuSingapuraFarenheit = np.append(suhuSingapuraFarenheit, ((suhuSingapuraCelcius[i] * 9 / 5) + 32))\n",
    "\n",
    "print(f\"\"\"\n",
    "Suhu di Singapura (Celcius): {suhuSingapuraCelcius}\n",
    "Suhu di Singapura (Fahrenheit): {suhuSingapuraFarenheit}\"\"\")"
   ]
  },
  {
   "cell_type": "markdown",
   "metadata": {},
   "source": [
    "Seorang guru Matematika memiliki data nilai ujian sebanyak 30 orang. Guru tersebut ingin\n",
    "menyimpan seluruh nilai ujian tadi ke dalam sebuah array untuk kemudian diurutkan\n",
    "nilainya dari yang terbesar hingga terkecil, kemudian ditampilkan. Selain itu, guru tersebut\n",
    "ingin melihat 5 nilai terbesarnya saja. Buatlah programnya dengan menggunakan library\n",
    "Numpy! (Catatan: silahkan buat data dummy untuk nilai ujian 30 siswa tersebut).\n"
   ]
  },
  {
   "cell_type": "code",
   "execution_count": null,
   "metadata": {},
   "outputs": [],
   "source": [
    "import numpy as np\n",
    "import random as rand\n",
    "\n",
    "def pembuatDataDummy(batasBawah, batasAtas, banyakData):\n",
    "    return [rand.randrange(batasBawah, batasAtas) for i in range(banyakData)]\n",
    "\n",
    "nilaiMatematika = np.array(pembuatDataDummy(40, 101, 30))\n",
    "\n",
    "nilaiMatematikaUrut = np.sort(nilaiMatematika)[::-1]\n",
    "\n",
    "nilaiMatematikaLimaTerbesar = np.array([nilaiMatematikaUrut[:5:]])\n",
    "\n",
    "print(f\"\"\"\n",
    "Nilai Ujian Matematika (sebelum diurutkan):\n",
    "{nilaiMatematika}\n",
    "\n",
    "Nilai Ujian Matematika (setelah diurutkan):\n",
    "{nilaiMatematikaUrut}\n",
    "\n",
    "Nilai Ujian Matematika (5 terbesar): {nilaiMatematikaLimaTerbesar}\"\"\")"
   ]
  }
 ],
 "metadata": {
  "kernelspec": {
   "display_name": "Python 3",
   "language": "python",
   "name": "python3"
  },
  "language_info": {
   "codemirror_mode": {
    "name": "ipython",
    "version": 3
   },
   "file_extension": ".py",
   "mimetype": "text/x-python",
   "name": "python",
   "nbconvert_exporter": "python",
   "pygments_lexer": "ipython3",
   "version": "3.11.5"
  }
 },
 "nbformat": 4,
 "nbformat_minor": 2
}
