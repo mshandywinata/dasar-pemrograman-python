{
 "cells": [
  {
   "cell_type": "markdown",
   "metadata": {},
   "source": [
    "Seorang ilmuan memiliki sebuah array 1D yang isinya adalah suhu di Singapura selama 10\n",
    "hari terakhir. Suhu tersebut ingin dikonversi dari Celcius menjadi Farenheit. Buatlah\n",
    "programnya dengan menggunakan library Numpy! (Catatan: silahkan buat data dummy\n",
    "untuk suhu 10 hari tersebut)."
   ]
  },
  {
   "cell_type": "code",
   "execution_count": 82,
   "metadata": {},
   "outputs": [
    {
     "name": "stdout",
     "output_type": "stream",
     "text": [
      "Suhu di Singapura (Celcius): [91 61 83 21 55 73  9 84 84 85]\n",
      "Suhu di Singapura (Fahrenheit): [441.5 306.5 405.5 126.5 279.5 360.5  72.5 410.  410.  414.5]\n"
     ]
    }
   ],
   "source": [
    "import numpy as np\n",
    "\n",
    "def pembuatDataDummy(batasBawah, batasAtas, banyakData):\n",
    "    return np.random.randint(batasBawah, batasAtas, banyakData)\n",
    "\n",
    "suhuCelcius = np.array(pembuatDataDummy(0, 100, 10))\n",
    "print(f\"Suhu di Singapura (Celcius): {suhuCelcius}\")\n",
    "\n",
    "suhuFarenheit = (suhuCelcius * 9 / 2) + 32\n",
    "print(f\"Suhu di Singapura (Fahrenheit): {suhuFarenheit}\")"
   ]
  },
  {
   "cell_type": "code",
   "execution_count": 72,
   "metadata": {},
   "outputs": [
    {
     "name": "stdout",
     "output_type": "stream",
     "text": [
      "\n",
      "Suhu di Singapura (Celcius): [38  3 87 33 57 28 88 57 15  7]\n",
      "Suhu di Singapura (Fahrenheit): [100.4  37.4 188.6  91.4 134.6  82.4 190.4 134.6  59.   44.6]\n"
     ]
    }
   ],
   "source": [
    "import numpy as np\n",
    "\n",
    "def pembuatDataDummy(batasBawah, batasAtas, banyakData):\n",
    "    return np.random.randint(batasBawah, batasAtas, banyakData)\n",
    "\n",
    "suhuSingapuraCelcius = np.array(pembuatDataDummy(0, 100, 10))\n",
    "suhuSingapuraFarenheit = np.array([])\n",
    "\n",
    "for i in range(len(suhuSingapuraCelcius)):\n",
    "    suhuSingapuraFarenheit = np.append(suhuSingapuraFarenheit, ((suhuSingapuraCelcius[i] * 9 / 5) + 32))\n",
    "\n",
    "print(f\"\"\"\n",
    "Suhu di Singapura (Celcius): {suhuSingapuraCelcius}\n",
    "Suhu di Singapura (Fahrenheit): {suhuSingapuraFarenheit}\"\"\")"
   ]
  },
  {
   "cell_type": "markdown",
   "metadata": {},
   "source": [
    "Seorang guru Matematika memiliki data nilai ujian sebanyak 30 orang. Guru tersebut ingin\n",
    "menyimpan seluruh nilai ujian tadi ke dalam sebuah array untuk kemudian diurutkan\n",
    "nilainya dari yang terbesar hingga terkecil, kemudian ditampilkan. Selain itu, guru tersebut\n",
    "ingin melihat 5 nilai terbesarnya saja. Buatlah programnya dengan menggunakan library\n",
    "Numpy! (Catatan: silahkan buat data dummy untuk nilai ujian 30 siswa tersebut).\n"
   ]
  },
  {
   "cell_type": "code",
   "execution_count": 97,
   "metadata": {},
   "outputs": [
    {
     "name": "stdout",
     "output_type": "stream",
     "text": [
      "\n",
      "Nilai Ujian Matematika (sebelum diurutkan):\n",
      "[ 57  83  81  42  93  80 100  94  66  48  96  93  90  84  55  81  93  70\n",
      "  76  62  56  63  66  65  88  74  63  49  99  54]\n",
      "\n",
      "Nilai Ujian Matematika (setelah diurutkan):\n",
      "[100  99  96  94  93  93  93  90  88  84  83  81  81  80  76  74  70  66\n",
      "  66  65  63  63  62  57  56  55  54  49  48  42]\n",
      "\n",
      "Nilai Ujian Matematika (5 terbesar): [100  99  96  94  93]\n",
      "<class 'numpy.ndarray'>\n",
      "<class 'numpy.ndarray'>\n",
      "<class 'numpy.ndarray'>\n"
     ]
    }
   ],
   "source": [
    "import numpy as np\n",
    "\n",
    "def pembuatDataDummy(batasBawah, batasAtas, banyakData):\n",
    "    return np.random.randint(batasBawah, batasAtas, banyakData)\n",
    "\n",
    "nilaiMatematika = np.array(pembuatDataDummy(40, 101, 30))\n",
    "nilaiMatematikaUrut = np.sort(nilaiMatematika)[::-1]\n",
    "nilaiMatematikaLimaTerbesar = np.array(nilaiMatematikaUrut[:5:])\n",
    "\n",
    "print(f\"\"\"\n",
    "Nilai Ujian Matematika (sebelum diurutkan):\n",
    "{nilaiMatematika}\n",
    "\n",
    "Nilai Ujian Matematika (setelah diurutkan):\n",
    "{nilaiMatematikaUrut}\n",
    "\n",
    "Nilai Ujian Matematika (5 terbesar): {nilaiMatematikaLimaTerbesar}\"\"\")"
   ]
  }
 ],
 "metadata": {
  "kernelspec": {
   "display_name": "Python 3",
   "language": "python",
   "name": "python3"
  },
  "language_info": {
   "codemirror_mode": {
    "name": "ipython",
    "version": 3
   },
   "file_extension": ".py",
   "mimetype": "text/x-python",
   "name": "python",
   "nbconvert_exporter": "python",
   "pygments_lexer": "ipython3",
   "version": "3.12.0"
  }
 },
 "nbformat": 4,
 "nbformat_minor": 2
}
