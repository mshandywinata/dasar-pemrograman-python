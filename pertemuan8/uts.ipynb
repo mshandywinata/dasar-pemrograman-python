{
 "cells": [
  {
   "cell_type": "code",
   "execution_count": null,
   "metadata": {},
   "outputs": [],
   "source": [
    "banyakBaris = int(input(\"Banyak barisan: \"))\n",
    "jumlahBilanganPrima = 0\n",
    "\n",
    "for i in range(1, banyakBaris + 1):\n",
    "    bilangan = int(input(f\"Bilangan ke-{i}: \"))\n",
    "    \n",
    "    for i in range(2, bilangan):\n",
    "        if bilangan % i == 0:\n",
    "            break    \n",
    "    else:\n",
    "        jumlahBilanganPrima += bilangan\n",
    "        \n",
    "if jumlahBilanganPrima <= 0:\n",
    "    print(\"Tidak ada bilangan prima dalam list\")\n",
    "else:\n",
    "    print(f\"Jumlah bilangan prima adalah {jumlahBilanganPrima}\")"
   ]
  }
 ],
 "metadata": {
  "kernelspec": {
   "display_name": "Python 3",
   "language": "python",
   "name": "python3"
  },
  "language_info": {
   "codemirror_mode": {
    "name": "ipython",
    "version": 3
   },
   "file_extension": ".py",
   "mimetype": "text/x-python",
   "name": "python",
   "nbconvert_exporter": "python",
   "pygments_lexer": "ipython3",
   "version": "3.11.5"
  }
 },
 "nbformat": 4,
 "nbformat_minor": 2
}
