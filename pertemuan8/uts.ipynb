{
 "cells": [
  {
   "cell_type": "code",
   "execution_count": null,
   "metadata": {},
   "outputs": [],
   "source": [
    "def login():\n",
    "    kesempatan = 3\n",
    "    print(\"Silakan login\")\n",
    "    print()\n",
    "    \n",
    "    while kesempatan > 0:\n",
    "        username = input(\"Username: \")\n",
    "        password = input(\"Password: \")\n",
    "        print()\n",
    "        \n",
    "        if username == \"utsdaspro\" and password == \"rpl2023\":\n",
    "            print(\"Selamat datang di aplikasi Prodi RPL\")\n",
    "            break\n",
    "        else:\n",
    "            kesempatan -= 1\n",
    "            if kesempatan == 0:\n",
    "                print(\"Anda tidak diperkenankan mengakses aplikasi ini.\")\n",
    "            else:\n",
    "                print(f\"Login salah! Kesempatan Anda {kesempatan}x lagi.\")\n",
    "\n",
    "\n",
    "login()     "
   ]
  },
  {
   "cell_type": "code",
   "execution_count": null,
   "metadata": {},
   "outputs": [],
   "source": [
    "bilGenap = []\n",
    "bilGanjil = []\n",
    "\n",
    "while True:\n",
    "    inputBilangan = int(input(\"Input bilangan: \"))\n",
    "    \n",
    "    if inputBilangan >= 0:\n",
    "        \n",
    "        if inputBilangan % 2 == 0:\n",
    "            bilGenap.append(inputBilangan)\n",
    "        elif inputBilangan % 2 != 0:\n",
    "            bilGanjil.append(inputBilangan)\n",
    "    else:\n",
    "        break\n",
    "\n",
    "print(f\"\"\"\n",
    "Jumlah bilangan genap: {sum(bilGenap)}\n",
    "Jumlah bilangan ganjil: {sum(bilGanjil)}\n",
    "\"\"\")"
   ]
  },
  {
   "cell_type": "code",
   "execution_count": null,
   "metadata": {},
   "outputs": [],
   "source": [
    "def lirikAnakAyam(jumlahAwal):\n",
    "    for i in range(jumlahAwal, 0, -1):\n",
    "        if i == 1:\n",
    "            print(f\"Anak ayam turunlah {i}\")\n",
    "            print(\"Mati satu tinggal induknya\")\n",
    "        else:\n",
    "            print(f\"Anak ayam turunlah {i}\")\n",
    "            print(f\"Mati satu tinggallah {i - 1}\")\n",
    "            print()\n",
    "        \n",
    "        \n",
    "lirikAnakAyam(int(input(\"Banyak anak ayam (N): \")))"
   ]
  },
  {
   "cell_type": "code",
   "execution_count": 5,
   "metadata": {},
   "outputs": [
    {
     "name": "stdout",
     "output_type": "stream",
     "text": [
      "Silakan masuk ke kelas K8\n"
     ]
    }
   ],
   "source": [
    "def nimKelas(nim):\n",
    "    if nim % 2 == 0:\n",
    "        if 1 <= nim <= 50:\n",
    "            return 'K2'\n",
    "        elif 51 <= nim <= 100:\n",
    "            return 'K4'\n",
    "        elif 101 <= nim <= 150:\n",
    "            return 'K6'\n",
    "        else:\n",
    "            return 'K8'\n",
    "    else:\n",
    "        if 1 <= nim <= 50:\n",
    "            return 'K1'\n",
    "        elif 51 <= nim <= 100:\n",
    "            return 'K3'\n",
    "        elif 101 <= nim <= 150:\n",
    "            return 'K5'\n",
    "        else:\n",
    "            return 'K7'\n",
    "        \n",
    "nim = int(input(\"Input 3 digit NIM terakhir: \"))\n",
    "print(f\"Silakan masuk ke kelas {nimKelas(nim)}\")"
   ]
  },
  {
   "cell_type": "code",
   "execution_count": null,
   "metadata": {},
   "outputs": [],
   "source": [
    "jumlah, kesempatan = 0, 3\n",
    "bilSebelum = int(input(\"Input bilangan: \"))\n",
    "\n",
    "while kesempatan > 0:\n",
    "    bilSetelah  = int(input(\"Input bilangan: \"))\n",
    "    \n",
    "    if bilSetelah <= bilSebelum:\n",
    "        kesempatan -= 1\n",
    "        bilSebelum = bilSetelah\n",
    "    else:\n",
    "        jumlah += bilSetelah\n",
    "        kesempatan = 3\n",
    "        bilSebelum = bilSetelah\n",
    "\n",
    "print(f\"\"\"\n",
    "Hasil penjumlahan nilai yang membesar: {jumlah}\"\"\")"
   ]
  },
  {
   "cell_type": "code",
   "execution_count": null,
   "metadata": {},
   "outputs": [],
   "source": [
    "banyakList, jumlah = int(input(\"Masukkan nilai N = \")), 0\n",
    "\n",
    "for i in range(1, banyakList + 1):\n",
    "    bilangan = int(input(f\"Masukkan bilangan ke-{i} = \"))\n",
    "    \n",
    "    for j in range(2, bilangan):\n",
    "        if bilangan % j == 0:\n",
    "            break\n",
    "    else:\n",
    "        jumlah += bilangan\n",
    "\n",
    "if jumlah == 0:\n",
    "    print(\"Tidak ada item list yang bilangan prima\")\n",
    "else:\n",
    "    print(f\"Jumlah bilangan prima adalah {jumlah}\")   "
   ]
  }
 ],
 "metadata": {
  "kernelspec": {
   "display_name": "Python 3",
   "language": "python",
   "name": "python3"
  },
  "language_info": {
   "codemirror_mode": {
    "name": "ipython",
    "version": 3
   },
   "file_extension": ".py",
   "mimetype": "text/x-python",
   "name": "python",
   "nbconvert_exporter": "python",
   "pygments_lexer": "ipython3",
   "version": "3.12.0"
  }
 },
 "nbformat": 4,
 "nbformat_minor": 2
}
